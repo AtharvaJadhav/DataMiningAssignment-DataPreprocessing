{
  "nbformat": 4,
  "nbformat_minor": 0,
  "metadata": {
    "colab": {
      "provenance": []
    },
    "kernelspec": {
      "name": "python3",
      "display_name": "Python 3"
    },
    "language_info": {
      "name": "python"
    }
  },
  "cells": [
    {
      "cell_type": "markdown",
      "source": [
        "# Analyzing Video Dataset\n",
        "\n",
        "In the realm of video analytics, especially within sports, high-quality datasets are paramount. This notebook will demonstrate an analysis of a video dataset, touching on various stages such as data exploration, preprocessing, and modeling.\n"
      ],
      "metadata": {
        "id": "TR2s5q7FqKrx"
      }
    },
    {
      "cell_type": "markdown",
      "source": [
        "## An Overview of Datasets\n",
        "\n",
        "###UCF101: A Brief Overview\n",
        "UCF101 is a prominent dataset for human action recognition, comprising over 13,000 video clips categorized into 101 action classes. Sourced from YouTube, the clips present a variety of backgrounds and conditions, making the dataset both diverse and challenging. It serves as a benchmark in machine learning, aiding research in action recognition and video classification. Its real-world scenarios and comprehensive categorization make UCF101 invaluable in video analytics."
      ],
      "metadata": {
        "id": "DKBz-GdmqPB4"
      }
    },
    {
      "cell_type": "markdown",
      "source": [
        "### Exploratory Data Analysis (EDA)\n",
        "The plot offers a distribution of different sports in our dataset. For a more comprehensive analysis, we would delve deeper into individual video properties, such as their duration, quality, and associated metadata.\n",
        "\n"
      ],
      "metadata": {
        "id": "Kmq1moRtqyei"
      }
    },
    {
      "cell_type": "code",
      "source": [
        "import pandas as pd\n",
        "import seaborn as sns\n",
        "import matplotlib.pyplot as plt\n",
        "\n",
        "# df_video is our dataset dataframe\n",
        "sns.countplot(df_video['Sport_Label'])\n",
        "plt.title('Distribution of Sports in Video Dataset')\n",
        "plt.show()"
      ],
      "metadata": {
        "colab": {
          "base_uri": "https://localhost:8080/",
          "height": 545
        },
        "id": "Ub1A6bLlqOhV",
        "outputId": "689c14d8-6055-4493-ad2f-def7048fba99"
      },
      "execution_count": 2,
      "outputs": [
        {
          "output_type": "display_data",
          "data": {
            "text/plain": [
              "<Figure size 1000x600 with 1 Axes>"
            ],
            "image/png": "[encoded data removed]"
          },
          "metadata": {}
        }
      ]
    },
    {
      "cell_type": "markdown",
      "source": [
        "## Data Preprocessing and Cleaning\n",
        "\n",
        "Video data stands apart in its complexity. Unlike static datasets, videos capture a temporal sequence of frames, each potentially rich in information. This dynamic nature makes preprocessing an imperative step. Here's a deeper dive into the challenges and methods associated with video data preprocessing:\n",
        "\n",
        "### High Dimensionality:\n",
        "Every frame in a video can be viewed as an image, and every pixel in that image can be a feature. A short 10-second clip at 30 frames per second yields 300 high-resolution images. This can translate to millions of features, making dimensionality reduction techniques crucial.\n",
        "\n",
        "### Varied Quality and Resolutions:\n",
        "Videos sourced from different devices or platforms might have varied resolutions, frame rates, and quality. Standardizing the resolution ensures that each video is treated uniformly during analysis. Techniques like interpolation might be used to standardize frame rates.\n",
        "\n",
        "### Noise and Artifacts:\n",
        "Real-world videos might contain noise due to poor lighting, camera shakes, or compression artifacts. Denoising algorithms can help clean up the video, improving the quality of subsequent feature extraction.\n",
        "\n",
        "### Temporal Alignments:\n",
        "Unlike static images, videos capture actions and behaviors over time. Ensuring temporal alignments, such as consistent frame rates or syncing audio with visual data, is crucial.\n",
        "\n",
        "### Data Augmentation:\n",
        "Given the limited amount of labeled video data available for training robust models, data augmentation techniques, such as random cropping, rotation, and temporal slicing, can artificially expand the dataset.\n",
        "\n",
        "### Feature Extraction:\n",
        "Raw pixel values might not be informative for certain tasks. Extracting higher-level features, such as optical flow (capturing motion) or embeddings from pre-trained neural networks, can be more representative.\n",
        "\n",
        "### Compression:\n",
        "Storing and processing high-resolution videos require significant storage and computational power. Employing video compression techniques can make the dataset more manageable without significant loss of information.\n",
        "\n",
        "### Annotations and Labels:\n",
        "For supervised learning tasks, ensuring that video annotations (like action labels or object bounding boxes) are consistent and accurate is vital.\n",
        "\n",
        "In essence, preprocessing video data is a multifaceted task that sets the foundation for all subsequent analysis. Properly preprocessed videos not only ease the modeling process but also significantly boost the performance of video analytics models."
      ],
      "metadata": {
        "id": "zEuPrgTDq2Ro"
      }
    },
    {
      "cell_type": "code",
      "execution_count": null,
      "metadata": {
        "id": "TPBP1Ac4qHPo"
      },
      "outputs": [],
      "source": [
        "# code to preprocess videos\n",
        "from video_processing_lib import resize_video, extract_frames, convert_to_grayscale\n",
        "\n",
        "# Create an empty list to store processed frames for each video\n",
        "all_processed_frames = []\n",
        "\n",
        "for video_path in df_video['Video_Path']:\n",
        "    # Resize the video\n",
        "    resize_video(video_path, resolution=(1280, 720))\n",
        "\n",
        "    # Extract 10 frames from the resized video\n",
        "    frames = extract_frames(video_path, n_frames=10)\n",
        "\n",
        "    # Convert frames to grayscale and flatten them into a single array\n",
        "    processed_frames = [convert_to_grayscale(frame).flatten() for frame in frames]\n",
        "\n",
        "    # Store processed frames\n",
        "    all_processed_frames.append(processed_frames)\n",
        "\n",
        "# Convert the list of processed frames into a DataFrame\n",
        "df_processed = pd.DataFrame(all_processed_frames)\n"
      ]
    },
    {
      "cell_type": "markdown",
      "source": [
        "## Model Building and Evaluation\n",
        "With our features in hand, we can now build a model. For simplicity, let's assume a classification task where we predict the sport type based on video features."
      ],
      "metadata": {
        "id": "KB5SaOWasOGw"
      }
    },
    {
      "cell_type": "code",
      "source": [
        "from sklearn.ensemble import RandomForestClassifier\n",
        "from sklearn.metrics import accuracy_score\n",
        "\n",
        "# code to train a model\n",
        "X = df_video['Extracted_Features']\n",
        "y = df_video['Sport_Label']\n",
        "clf = RandomForestClassifier()\n",
        "clf.fit(X, y)\n",
        "\n",
        "# Model evaluation\n",
        "y_pred = clf.predict(X_test)\n",
        "accuracy = accuracy_score(y_test, y_pred)\n",
        "print(f\"Video Dataset - Accuracy: {accuracy:.2f}\")"
      ],
      "metadata": {
        "id": "iz_vFCJNsN83"
      },
      "execution_count": null,
      "outputs": []
    }
  ]
}